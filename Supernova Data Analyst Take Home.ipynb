{
 "cells": [
  {
   "cell_type": "markdown",
   "id": "c536a4e2",
   "metadata": {},
   "source": [
    "#### Import Data set"
   ]
  },
  {
   "cell_type": "code",
   "execution_count": 1,
   "id": "738b00df",
   "metadata": {},
   "outputs": [
    {
     "data": {
      "text/html": [
       "<div>\n",
       "<style scoped>\n",
       "    .dataframe tbody tr th:only-of-type {\n",
       "        vertical-align: middle;\n",
       "    }\n",
       "\n",
       "    .dataframe tbody tr th {\n",
       "        vertical-align: top;\n",
       "    }\n",
       "\n",
       "    .dataframe thead th {\n",
       "        text-align: right;\n",
       "    }\n",
       "</style>\n",
       "<table border=\"1\" class=\"dataframe\">\n",
       "  <thead>\n",
       "    <tr style=\"text-align: right;\">\n",
       "      <th></th>\n",
       "      <th>Index</th>\n",
       "      <th>Date</th>\n",
       "      <th>Open</th>\n",
       "      <th>High</th>\n",
       "      <th>Low</th>\n",
       "      <th>Close</th>\n",
       "      <th>Adj Close</th>\n",
       "      <th>Volume</th>\n",
       "    </tr>\n",
       "  </thead>\n",
       "  <tbody>\n",
       "    <tr>\n",
       "      <th>0</th>\n",
       "      <td>NYA</td>\n",
       "      <td>1965-12-31</td>\n",
       "      <td>528.690002</td>\n",
       "      <td>528.690002</td>\n",
       "      <td>528.690002</td>\n",
       "      <td>528.690002</td>\n",
       "      <td>528.690002</td>\n",
       "      <td>0.0</td>\n",
       "    </tr>\n",
       "    <tr>\n",
       "      <th>1</th>\n",
       "      <td>NYA</td>\n",
       "      <td>1966-01-03</td>\n",
       "      <td>527.210022</td>\n",
       "      <td>527.210022</td>\n",
       "      <td>527.210022</td>\n",
       "      <td>527.210022</td>\n",
       "      <td>527.210022</td>\n",
       "      <td>0.0</td>\n",
       "    </tr>\n",
       "    <tr>\n",
       "      <th>2</th>\n",
       "      <td>NYA</td>\n",
       "      <td>1966-01-04</td>\n",
       "      <td>527.840027</td>\n",
       "      <td>527.840027</td>\n",
       "      <td>527.840027</td>\n",
       "      <td>527.840027</td>\n",
       "      <td>527.840027</td>\n",
       "      <td>0.0</td>\n",
       "    </tr>\n",
       "    <tr>\n",
       "      <th>3</th>\n",
       "      <td>NYA</td>\n",
       "      <td>1966-01-05</td>\n",
       "      <td>531.119995</td>\n",
       "      <td>531.119995</td>\n",
       "      <td>531.119995</td>\n",
       "      <td>531.119995</td>\n",
       "      <td>531.119995</td>\n",
       "      <td>0.0</td>\n",
       "    </tr>\n",
       "    <tr>\n",
       "      <th>4</th>\n",
       "      <td>NYA</td>\n",
       "      <td>1966-01-06</td>\n",
       "      <td>532.070007</td>\n",
       "      <td>532.070007</td>\n",
       "      <td>532.070007</td>\n",
       "      <td>532.070007</td>\n",
       "      <td>532.070007</td>\n",
       "      <td>0.0</td>\n",
       "    </tr>\n",
       "    <tr>\n",
       "      <th>...</th>\n",
       "      <td>...</td>\n",
       "      <td>...</td>\n",
       "      <td>...</td>\n",
       "      <td>...</td>\n",
       "      <td>...</td>\n",
       "      <td>...</td>\n",
       "      <td>...</td>\n",
       "      <td>...</td>\n",
       "    </tr>\n",
       "    <tr>\n",
       "      <th>112452</th>\n",
       "      <td>N100</td>\n",
       "      <td>2021-05-27</td>\n",
       "      <td>1241.119995</td>\n",
       "      <td>1251.910034</td>\n",
       "      <td>1241.119995</td>\n",
       "      <td>1247.069946</td>\n",
       "      <td>1247.069946</td>\n",
       "      <td>379696400.0</td>\n",
       "    </tr>\n",
       "    <tr>\n",
       "      <th>112453</th>\n",
       "      <td>N100</td>\n",
       "      <td>2021-05-28</td>\n",
       "      <td>1249.469971</td>\n",
       "      <td>1259.209961</td>\n",
       "      <td>1249.030029</td>\n",
       "      <td>1256.599976</td>\n",
       "      <td>1256.599976</td>\n",
       "      <td>160773400.0</td>\n",
       "    </tr>\n",
       "    <tr>\n",
       "      <th>112454</th>\n",
       "      <td>N100</td>\n",
       "      <td>2021-05-31</td>\n",
       "      <td>1256.079956</td>\n",
       "      <td>1258.880005</td>\n",
       "      <td>1248.140015</td>\n",
       "      <td>1248.930054</td>\n",
       "      <td>1248.930054</td>\n",
       "      <td>91173700.0</td>\n",
       "    </tr>\n",
       "    <tr>\n",
       "      <th>112455</th>\n",
       "      <td>N100</td>\n",
       "      <td>2021-06-01</td>\n",
       "      <td>1254.609985</td>\n",
       "      <td>1265.660034</td>\n",
       "      <td>1254.609985</td>\n",
       "      <td>1258.579956</td>\n",
       "      <td>1258.579956</td>\n",
       "      <td>155179900.0</td>\n",
       "    </tr>\n",
       "    <tr>\n",
       "      <th>112456</th>\n",
       "      <td>N100</td>\n",
       "      <td>2021-06-02</td>\n",
       "      <td>1258.489990</td>\n",
       "      <td>1263.709961</td>\n",
       "      <td>1258.239990</td>\n",
       "      <td>1263.619995</td>\n",
       "      <td>1263.619995</td>\n",
       "      <td>148465000.0</td>\n",
       "    </tr>\n",
       "  </tbody>\n",
       "</table>\n",
       "<p>112457 rows × 8 columns</p>\n",
       "</div>"
      ],
      "text/plain": [
       "       Index        Date         Open         High          Low        Close  \\\n",
       "0        NYA  1965-12-31   528.690002   528.690002   528.690002   528.690002   \n",
       "1        NYA  1966-01-03   527.210022   527.210022   527.210022   527.210022   \n",
       "2        NYA  1966-01-04   527.840027   527.840027   527.840027   527.840027   \n",
       "3        NYA  1966-01-05   531.119995   531.119995   531.119995   531.119995   \n",
       "4        NYA  1966-01-06   532.070007   532.070007   532.070007   532.070007   \n",
       "...      ...         ...          ...          ...          ...          ...   \n",
       "112452  N100  2021-05-27  1241.119995  1251.910034  1241.119995  1247.069946   \n",
       "112453  N100  2021-05-28  1249.469971  1259.209961  1249.030029  1256.599976   \n",
       "112454  N100  2021-05-31  1256.079956  1258.880005  1248.140015  1248.930054   \n",
       "112455  N100  2021-06-01  1254.609985  1265.660034  1254.609985  1258.579956   \n",
       "112456  N100  2021-06-02  1258.489990  1263.709961  1258.239990  1263.619995   \n",
       "\n",
       "          Adj Close       Volume  \n",
       "0        528.690002          0.0  \n",
       "1        527.210022          0.0  \n",
       "2        527.840027          0.0  \n",
       "3        531.119995          0.0  \n",
       "4        532.070007          0.0  \n",
       "...             ...          ...  \n",
       "112452  1247.069946  379696400.0  \n",
       "112453  1256.599976  160773400.0  \n",
       "112454  1248.930054   91173700.0  \n",
       "112455  1258.579956  155179900.0  \n",
       "112456  1263.619995  148465000.0  \n",
       "\n",
       "[112457 rows x 8 columns]"
      ]
     },
     "execution_count": 1,
     "metadata": {},
     "output_type": "execute_result"
    }
   ],
   "source": [
    "import pandas as pd\n",
    "df=pd.read_csv('C:/Users/Balu Boda/Downloads/archive/indexData.csv')\n",
    "df"
   ]
  },
  {
   "cell_type": "markdown",
   "id": "24fe0c99",
   "metadata": {},
   "source": [
    "#### Describe data"
   ]
  },
  {
   "cell_type": "code",
   "execution_count": 4,
   "id": "4db4334d",
   "metadata": {},
   "outputs": [
    {
     "data": {
      "text/html": [
       "<div>\n",
       "<style scoped>\n",
       "    .dataframe tbody tr th:only-of-type {\n",
       "        vertical-align: middle;\n",
       "    }\n",
       "\n",
       "    .dataframe tbody tr th {\n",
       "        vertical-align: top;\n",
       "    }\n",
       "\n",
       "    .dataframe thead th {\n",
       "        text-align: right;\n",
       "    }\n",
       "</style>\n",
       "<table border=\"1\" class=\"dataframe\">\n",
       "  <thead>\n",
       "    <tr style=\"text-align: right;\">\n",
       "      <th></th>\n",
       "      <th>Open</th>\n",
       "      <th>High</th>\n",
       "      <th>Low</th>\n",
       "      <th>Close</th>\n",
       "      <th>Adj Close</th>\n",
       "      <th>Volume</th>\n",
       "    </tr>\n",
       "  </thead>\n",
       "  <tbody>\n",
       "    <tr>\n",
       "      <th>count</th>\n",
       "      <td>110253.000000</td>\n",
       "      <td>110253.000000</td>\n",
       "      <td>110253.000000</td>\n",
       "      <td>110253.000000</td>\n",
       "      <td>110253.000000</td>\n",
       "      <td>1.102530e+05</td>\n",
       "    </tr>\n",
       "    <tr>\n",
       "      <th>mean</th>\n",
       "      <td>7658.515222</td>\n",
       "      <td>7704.372961</td>\n",
       "      <td>7608.000422</td>\n",
       "      <td>7657.545872</td>\n",
       "      <td>7657.351729</td>\n",
       "      <td>1.273975e+09</td>\n",
       "    </tr>\n",
       "    <tr>\n",
       "      <th>std</th>\n",
       "      <td>9011.478913</td>\n",
       "      <td>9066.638548</td>\n",
       "      <td>8954.506981</td>\n",
       "      <td>9011.510444</td>\n",
       "      <td>9011.608900</td>\n",
       "      <td>4.315783e+09</td>\n",
       "    </tr>\n",
       "    <tr>\n",
       "      <th>min</th>\n",
       "      <td>54.869999</td>\n",
       "      <td>54.869999</td>\n",
       "      <td>54.869999</td>\n",
       "      <td>54.869999</td>\n",
       "      <td>54.869999</td>\n",
       "      <td>0.000000e+00</td>\n",
       "    </tr>\n",
       "    <tr>\n",
       "      <th>25%</th>\n",
       "      <td>1855.030029</td>\n",
       "      <td>1864.510010</td>\n",
       "      <td>1843.979980</td>\n",
       "      <td>1855.060059</td>\n",
       "      <td>1854.179565</td>\n",
       "      <td>0.000000e+00</td>\n",
       "    </tr>\n",
       "    <tr>\n",
       "      <th>50%</th>\n",
       "      <td>5194.089844</td>\n",
       "      <td>5226.279785</td>\n",
       "      <td>5154.049805</td>\n",
       "      <td>5194.750000</td>\n",
       "      <td>5194.750000</td>\n",
       "      <td>4.329000e+05</td>\n",
       "    </tr>\n",
       "    <tr>\n",
       "      <th>75%</th>\n",
       "      <td>10134.299810</td>\n",
       "      <td>10207.820310</td>\n",
       "      <td>10060.349610</td>\n",
       "      <td>10134.830080</td>\n",
       "      <td>10134.830080</td>\n",
       "      <td>1.734314e+08</td>\n",
       "    </tr>\n",
       "    <tr>\n",
       "      <th>max</th>\n",
       "      <td>68775.062500</td>\n",
       "      <td>69403.750000</td>\n",
       "      <td>68516.992190</td>\n",
       "      <td>68775.062500</td>\n",
       "      <td>68775.062500</td>\n",
       "      <td>9.440374e+10</td>\n",
       "    </tr>\n",
       "  </tbody>\n",
       "</table>\n",
       "</div>"
      ],
      "text/plain": [
       "                Open           High            Low          Close  \\\n",
       "count  110253.000000  110253.000000  110253.000000  110253.000000   \n",
       "mean     7658.515222    7704.372961    7608.000422    7657.545872   \n",
       "std      9011.478913    9066.638548    8954.506981    9011.510444   \n",
       "min        54.869999      54.869999      54.869999      54.869999   \n",
       "25%      1855.030029    1864.510010    1843.979980    1855.060059   \n",
       "50%      5194.089844    5226.279785    5154.049805    5194.750000   \n",
       "75%     10134.299810   10207.820310   10060.349610   10134.830080   \n",
       "max     68775.062500   69403.750000   68516.992190   68775.062500   \n",
       "\n",
       "           Adj Close        Volume  \n",
       "count  110253.000000  1.102530e+05  \n",
       "mean     7657.351729  1.273975e+09  \n",
       "std      9011.608900  4.315783e+09  \n",
       "min        54.869999  0.000000e+00  \n",
       "25%      1854.179565  0.000000e+00  \n",
       "50%      5194.750000  4.329000e+05  \n",
       "75%     10134.830080  1.734314e+08  \n",
       "max     68775.062500  9.440374e+10  "
      ]
     },
     "execution_count": 4,
     "metadata": {},
     "output_type": "execute_result"
    }
   ],
   "source": [
    "df.describe()"
   ]
  },
  {
   "cell_type": "markdown",
   "id": "5d840067",
   "metadata": {},
   "source": [
    "#### Check Null values"
   ]
  },
  {
   "cell_type": "code",
   "execution_count": 5,
   "id": "741af1df",
   "metadata": {},
   "outputs": [
    {
     "data": {
      "text/plain": [
       "Index           0\n",
       "Date            0\n",
       "Open         2204\n",
       "High         2204\n",
       "Low          2204\n",
       "Close        2204\n",
       "Adj Close    2204\n",
       "Volume       2204\n",
       "dtype: int64"
      ]
     },
     "execution_count": 5,
     "metadata": {},
     "output_type": "execute_result"
    }
   ],
   "source": [
    "df.isnull().sum()"
   ]
  },
  {
   "cell_type": "markdown",
   "id": "fb6b58d9",
   "metadata": {},
   "source": [
    "#### Drop Null values - > not used for prediction "
   ]
  },
  {
   "cell_type": "code",
   "execution_count": 13,
   "id": "dfe051eb",
   "metadata": {},
   "outputs": [
    {
     "data": {
      "text/html": [
       "<div>\n",
       "<style scoped>\n",
       "    .dataframe tbody tr th:only-of-type {\n",
       "        vertical-align: middle;\n",
       "    }\n",
       "\n",
       "    .dataframe tbody tr th {\n",
       "        vertical-align: top;\n",
       "    }\n",
       "\n",
       "    .dataframe thead th {\n",
       "        text-align: right;\n",
       "    }\n",
       "</style>\n",
       "<table border=\"1\" class=\"dataframe\">\n",
       "  <thead>\n",
       "    <tr style=\"text-align: right;\">\n",
       "      <th></th>\n",
       "      <th>Index</th>\n",
       "      <th>Date</th>\n",
       "      <th>Open</th>\n",
       "      <th>High</th>\n",
       "      <th>Low</th>\n",
       "      <th>Close</th>\n",
       "      <th>Adj Close</th>\n",
       "      <th>Volume</th>\n",
       "    </tr>\n",
       "  </thead>\n",
       "  <tbody>\n",
       "    <tr>\n",
       "      <th>0</th>\n",
       "      <td>NYA</td>\n",
       "      <td>1965-12-31</td>\n",
       "      <td>528.690002</td>\n",
       "      <td>528.690002</td>\n",
       "      <td>528.690002</td>\n",
       "      <td>528.690002</td>\n",
       "      <td>528.690002</td>\n",
       "      <td>0.0</td>\n",
       "    </tr>\n",
       "    <tr>\n",
       "      <th>1</th>\n",
       "      <td>NYA</td>\n",
       "      <td>1966-01-03</td>\n",
       "      <td>527.210022</td>\n",
       "      <td>527.210022</td>\n",
       "      <td>527.210022</td>\n",
       "      <td>527.210022</td>\n",
       "      <td>527.210022</td>\n",
       "      <td>0.0</td>\n",
       "    </tr>\n",
       "    <tr>\n",
       "      <th>2</th>\n",
       "      <td>NYA</td>\n",
       "      <td>1966-01-04</td>\n",
       "      <td>527.840027</td>\n",
       "      <td>527.840027</td>\n",
       "      <td>527.840027</td>\n",
       "      <td>527.840027</td>\n",
       "      <td>527.840027</td>\n",
       "      <td>0.0</td>\n",
       "    </tr>\n",
       "    <tr>\n",
       "      <th>3</th>\n",
       "      <td>NYA</td>\n",
       "      <td>1966-01-05</td>\n",
       "      <td>531.119995</td>\n",
       "      <td>531.119995</td>\n",
       "      <td>531.119995</td>\n",
       "      <td>531.119995</td>\n",
       "      <td>531.119995</td>\n",
       "      <td>0.0</td>\n",
       "    </tr>\n",
       "    <tr>\n",
       "      <th>4</th>\n",
       "      <td>NYA</td>\n",
       "      <td>1966-01-06</td>\n",
       "      <td>532.070007</td>\n",
       "      <td>532.070007</td>\n",
       "      <td>532.070007</td>\n",
       "      <td>532.070007</td>\n",
       "      <td>532.070007</td>\n",
       "      <td>0.0</td>\n",
       "    </tr>\n",
       "    <tr>\n",
       "      <th>...</th>\n",
       "      <td>...</td>\n",
       "      <td>...</td>\n",
       "      <td>...</td>\n",
       "      <td>...</td>\n",
       "      <td>...</td>\n",
       "      <td>...</td>\n",
       "      <td>...</td>\n",
       "      <td>...</td>\n",
       "    </tr>\n",
       "    <tr>\n",
       "      <th>112452</th>\n",
       "      <td>N100</td>\n",
       "      <td>2021-05-27</td>\n",
       "      <td>1241.119995</td>\n",
       "      <td>1251.910034</td>\n",
       "      <td>1241.119995</td>\n",
       "      <td>1247.069946</td>\n",
       "      <td>1247.069946</td>\n",
       "      <td>379696400.0</td>\n",
       "    </tr>\n",
       "    <tr>\n",
       "      <th>112453</th>\n",
       "      <td>N100</td>\n",
       "      <td>2021-05-28</td>\n",
       "      <td>1249.469971</td>\n",
       "      <td>1259.209961</td>\n",
       "      <td>1249.030029</td>\n",
       "      <td>1256.599976</td>\n",
       "      <td>1256.599976</td>\n",
       "      <td>160773400.0</td>\n",
       "    </tr>\n",
       "    <tr>\n",
       "      <th>112454</th>\n",
       "      <td>N100</td>\n",
       "      <td>2021-05-31</td>\n",
       "      <td>1256.079956</td>\n",
       "      <td>1258.880005</td>\n",
       "      <td>1248.140015</td>\n",
       "      <td>1248.930054</td>\n",
       "      <td>1248.930054</td>\n",
       "      <td>91173700.0</td>\n",
       "    </tr>\n",
       "    <tr>\n",
       "      <th>112455</th>\n",
       "      <td>N100</td>\n",
       "      <td>2021-06-01</td>\n",
       "      <td>1254.609985</td>\n",
       "      <td>1265.660034</td>\n",
       "      <td>1254.609985</td>\n",
       "      <td>1258.579956</td>\n",
       "      <td>1258.579956</td>\n",
       "      <td>155179900.0</td>\n",
       "    </tr>\n",
       "    <tr>\n",
       "      <th>112456</th>\n",
       "      <td>N100</td>\n",
       "      <td>2021-06-02</td>\n",
       "      <td>1258.489990</td>\n",
       "      <td>1263.709961</td>\n",
       "      <td>1258.239990</td>\n",
       "      <td>1263.619995</td>\n",
       "      <td>1263.619995</td>\n",
       "      <td>148465000.0</td>\n",
       "    </tr>\n",
       "  </tbody>\n",
       "</table>\n",
       "<p>110253 rows × 8 columns</p>\n",
       "</div>"
      ],
      "text/plain": [
       "       Index        Date         Open         High          Low        Close  \\\n",
       "0        NYA  1965-12-31   528.690002   528.690002   528.690002   528.690002   \n",
       "1        NYA  1966-01-03   527.210022   527.210022   527.210022   527.210022   \n",
       "2        NYA  1966-01-04   527.840027   527.840027   527.840027   527.840027   \n",
       "3        NYA  1966-01-05   531.119995   531.119995   531.119995   531.119995   \n",
       "4        NYA  1966-01-06   532.070007   532.070007   532.070007   532.070007   \n",
       "...      ...         ...          ...          ...          ...          ...   \n",
       "112452  N100  2021-05-27  1241.119995  1251.910034  1241.119995  1247.069946   \n",
       "112453  N100  2021-05-28  1249.469971  1259.209961  1249.030029  1256.599976   \n",
       "112454  N100  2021-05-31  1256.079956  1258.880005  1248.140015  1248.930054   \n",
       "112455  N100  2021-06-01  1254.609985  1265.660034  1254.609985  1258.579956   \n",
       "112456  N100  2021-06-02  1258.489990  1263.709961  1258.239990  1263.619995   \n",
       "\n",
       "          Adj Close       Volume  \n",
       "0        528.690002          0.0  \n",
       "1        527.210022          0.0  \n",
       "2        527.840027          0.0  \n",
       "3        531.119995          0.0  \n",
       "4        532.070007          0.0  \n",
       "...             ...          ...  \n",
       "112452  1247.069946  379696400.0  \n",
       "112453  1256.599976  160773400.0  \n",
       "112454  1248.930054   91173700.0  \n",
       "112455  1258.579956  155179900.0  \n",
       "112456  1263.619995  148465000.0  \n",
       "\n",
       "[110253 rows x 8 columns]"
      ]
     },
     "execution_count": 13,
     "metadata": {},
     "output_type": "execute_result"
    }
   ],
   "source": [
    "data_without_na=df.dropna()\n",
    "data_without_na"
   ]
  },
  {
   "cell_type": "markdown",
   "id": "c2a89bce",
   "metadata": {},
   "source": [
    "##### Chcek the data types"
   ]
  },
  {
   "cell_type": "code",
   "execution_count": 14,
   "id": "fc67bcc2",
   "metadata": {},
   "outputs": [
    {
     "data": {
      "text/plain": [
       "Index         object\n",
       "Date          object\n",
       "Open         float64\n",
       "High         float64\n",
       "Low          float64\n",
       "Close        float64\n",
       "Adj Close    float64\n",
       "Volume       float64\n",
       "dtype: object"
      ]
     },
     "execution_count": 14,
     "metadata": {},
     "output_type": "execute_result"
    }
   ],
   "source": [
    "data_without_na.dtypes"
   ]
  },
  {
   "cell_type": "markdown",
   "id": "39c9f04e",
   "metadata": {},
   "source": [
    "#### Changed Date 'object' to Datetime"
   ]
  },
  {
   "cell_type": "code",
   "execution_count": 15,
   "id": "acc788c1",
   "metadata": {},
   "outputs": [
    {
     "name": "stderr",
     "output_type": "stream",
     "text": [
      "<ipython-input-15-f216bba7a2d7>:1: SettingWithCopyWarning: \n",
      "A value is trying to be set on a copy of a slice from a DataFrame.\n",
      "Try using .loc[row_indexer,col_indexer] = value instead\n",
      "\n",
      "See the caveats in the documentation: https://pandas.pydata.org/pandas-docs/stable/user_guide/indexing.html#returning-a-view-versus-a-copy\n",
      "  data_without_na[\"Date\"] = pd.to_datetime(data_without_na[\"Date\"])\n"
     ]
    }
   ],
   "source": [
    "data_without_na[\"Date\"] = pd.to_datetime(data_without_na[\"Date\"])"
   ]
  },
  {
   "cell_type": "code",
   "execution_count": 16,
   "id": "59804d99",
   "metadata": {},
   "outputs": [
    {
     "data": {
      "text/plain": [
       "Index                object\n",
       "Date         datetime64[ns]\n",
       "Open                float64\n",
       "High                float64\n",
       "Low                 float64\n",
       "Close               float64\n",
       "Adj Close           float64\n",
       "Volume              float64\n",
       "dtype: object"
      ]
     },
     "execution_count": 16,
     "metadata": {},
     "output_type": "execute_result"
    }
   ],
   "source": [
    "data_without_na.dtypes"
   ]
  },
  {
   "cell_type": "markdown",
   "id": "5be98263",
   "metadata": {},
   "source": [
    "#### Get Last 5 years data -for training data, and the last month as the prediction."
   ]
  },
  {
   "cell_type": "code",
   "execution_count": 19,
   "id": "e180eb05",
   "metadata": {},
   "outputs": [
    {
     "data": {
      "text/html": [
       "<div>\n",
       "<style scoped>\n",
       "    .dataframe tbody tr th:only-of-type {\n",
       "        vertical-align: middle;\n",
       "    }\n",
       "\n",
       "    .dataframe tbody tr th {\n",
       "        vertical-align: top;\n",
       "    }\n",
       "\n",
       "    .dataframe thead th {\n",
       "        text-align: right;\n",
       "    }\n",
       "</style>\n",
       "<table border=\"1\" class=\"dataframe\">\n",
       "  <thead>\n",
       "    <tr style=\"text-align: right;\">\n",
       "      <th></th>\n",
       "      <th>Index</th>\n",
       "      <th>Date</th>\n",
       "      <th>Open</th>\n",
       "      <th>High</th>\n",
       "      <th>Low</th>\n",
       "      <th>Close</th>\n",
       "      <th>Adj Close</th>\n",
       "      <th>Volume</th>\n",
       "    </tr>\n",
       "  </thead>\n",
       "  <tbody>\n",
       "    <tr>\n",
       "      <th>12691</th>\n",
       "      <td>NYA</td>\n",
       "      <td>2016-06-02</td>\n",
       "      <td>10424.679690</td>\n",
       "      <td>10487.610350</td>\n",
       "      <td>10403.509770</td>\n",
       "      <td>10487.580080</td>\n",
       "      <td>10487.580080</td>\n",
       "      <td>3.632720e+09</td>\n",
       "    </tr>\n",
       "    <tr>\n",
       "      <th>12692</th>\n",
       "      <td>NYA</td>\n",
       "      <td>2016-06-03</td>\n",
       "      <td>10477.780270</td>\n",
       "      <td>10504.459960</td>\n",
       "      <td>10417.900390</td>\n",
       "      <td>10487.940430</td>\n",
       "      <td>10487.940430</td>\n",
       "      <td>3.627780e+09</td>\n",
       "    </tr>\n",
       "    <tr>\n",
       "      <th>12693</th>\n",
       "      <td>NYA</td>\n",
       "      <td>2016-06-06</td>\n",
       "      <td>10508.500000</td>\n",
       "      <td>10568.849610</td>\n",
       "      <td>10508.500000</td>\n",
       "      <td>10554.820310</td>\n",
       "      <td>10554.820310</td>\n",
       "      <td>3.442020e+09</td>\n",
       "    </tr>\n",
       "    <tr>\n",
       "      <th>12694</th>\n",
       "      <td>NYA</td>\n",
       "      <td>2016-06-07</td>\n",
       "      <td>10554.589840</td>\n",
       "      <td>10626.830080</td>\n",
       "      <td>10554.589840</td>\n",
       "      <td>10599.219730</td>\n",
       "      <td>10599.219730</td>\n",
       "      <td>3.534730e+09</td>\n",
       "    </tr>\n",
       "    <tr>\n",
       "      <th>12695</th>\n",
       "      <td>NYA</td>\n",
       "      <td>2016-06-08</td>\n",
       "      <td>10620.190430</td>\n",
       "      <td>10648.049810</td>\n",
       "      <td>10610.209960</td>\n",
       "      <td>10638.360350</td>\n",
       "      <td>10638.360350</td>\n",
       "      <td>3.562060e+09</td>\n",
       "    </tr>\n",
       "    <tr>\n",
       "      <th>...</th>\n",
       "      <td>...</td>\n",
       "      <td>...</td>\n",
       "      <td>...</td>\n",
       "      <td>...</td>\n",
       "      <td>...</td>\n",
       "      <td>...</td>\n",
       "      <td>...</td>\n",
       "      <td>...</td>\n",
       "    </tr>\n",
       "    <tr>\n",
       "      <th>112452</th>\n",
       "      <td>N100</td>\n",
       "      <td>2021-05-27</td>\n",
       "      <td>1241.119995</td>\n",
       "      <td>1251.910034</td>\n",
       "      <td>1241.119995</td>\n",
       "      <td>1247.069946</td>\n",
       "      <td>1247.069946</td>\n",
       "      <td>3.796964e+08</td>\n",
       "    </tr>\n",
       "    <tr>\n",
       "      <th>112453</th>\n",
       "      <td>N100</td>\n",
       "      <td>2021-05-28</td>\n",
       "      <td>1249.469971</td>\n",
       "      <td>1259.209961</td>\n",
       "      <td>1249.030029</td>\n",
       "      <td>1256.599976</td>\n",
       "      <td>1256.599976</td>\n",
       "      <td>1.607734e+08</td>\n",
       "    </tr>\n",
       "    <tr>\n",
       "      <th>112454</th>\n",
       "      <td>N100</td>\n",
       "      <td>2021-05-31</td>\n",
       "      <td>1256.079956</td>\n",
       "      <td>1258.880005</td>\n",
       "      <td>1248.140015</td>\n",
       "      <td>1248.930054</td>\n",
       "      <td>1248.930054</td>\n",
       "      <td>9.117370e+07</td>\n",
       "    </tr>\n",
       "    <tr>\n",
       "      <th>112455</th>\n",
       "      <td>N100</td>\n",
       "      <td>2021-06-01</td>\n",
       "      <td>1254.609985</td>\n",
       "      <td>1265.660034</td>\n",
       "      <td>1254.609985</td>\n",
       "      <td>1258.579956</td>\n",
       "      <td>1258.579956</td>\n",
       "      <td>1.551799e+08</td>\n",
       "    </tr>\n",
       "    <tr>\n",
       "      <th>112456</th>\n",
       "      <td>N100</td>\n",
       "      <td>2021-06-02</td>\n",
       "      <td>1258.489990</td>\n",
       "      <td>1263.709961</td>\n",
       "      <td>1258.239990</td>\n",
       "      <td>1263.619995</td>\n",
       "      <td>1263.619995</td>\n",
       "      <td>1.484650e+08</td>\n",
       "    </tr>\n",
       "  </tbody>\n",
       "</table>\n",
       "<p>17337 rows × 8 columns</p>\n",
       "</div>"
      ],
      "text/plain": [
       "       Index       Date          Open          High           Low  \\\n",
       "12691    NYA 2016-06-02  10424.679690  10487.610350  10403.509770   \n",
       "12692    NYA 2016-06-03  10477.780270  10504.459960  10417.900390   \n",
       "12693    NYA 2016-06-06  10508.500000  10568.849610  10508.500000   \n",
       "12694    NYA 2016-06-07  10554.589840  10626.830080  10554.589840   \n",
       "12695    NYA 2016-06-08  10620.190430  10648.049810  10610.209960   \n",
       "...      ...        ...           ...           ...           ...   \n",
       "112452  N100 2021-05-27   1241.119995   1251.910034   1241.119995   \n",
       "112453  N100 2021-05-28   1249.469971   1259.209961   1249.030029   \n",
       "112454  N100 2021-05-31   1256.079956   1258.880005   1248.140015   \n",
       "112455  N100 2021-06-01   1254.609985   1265.660034   1254.609985   \n",
       "112456  N100 2021-06-02   1258.489990   1263.709961   1258.239990   \n",
       "\n",
       "               Close     Adj Close        Volume  \n",
       "12691   10487.580080  10487.580080  3.632720e+09  \n",
       "12692   10487.940430  10487.940430  3.627780e+09  \n",
       "12693   10554.820310  10554.820310  3.442020e+09  \n",
       "12694   10599.219730  10599.219730  3.534730e+09  \n",
       "12695   10638.360350  10638.360350  3.562060e+09  \n",
       "...              ...           ...           ...  \n",
       "112452   1247.069946   1247.069946  3.796964e+08  \n",
       "112453   1256.599976   1256.599976  1.607734e+08  \n",
       "112454   1248.930054   1248.930054  9.117370e+07  \n",
       "112455   1258.579956   1258.579956  1.551799e+08  \n",
       "112456   1263.619995   1263.619995  1.484650e+08  \n",
       "\n",
       "[17337 rows x 8 columns]"
      ]
     },
     "execution_count": 19,
     "metadata": {},
     "output_type": "execute_result"
    }
   ],
   "source": [
    "data_train = data_without_na[data_without_na.Date > \"2016-06-01\"]\n",
    "data_train"
   ]
  },
  {
   "cell_type": "markdown",
   "id": "262aa556",
   "metadata": {},
   "source": [
    "#### Build/predict  for 'Korea Exchange'"
   ]
  },
  {
   "cell_type": "code",
   "execution_count": 20,
   "id": "ffd2e05c",
   "metadata": {},
   "outputs": [
    {
     "data": {
      "text/html": [
       "<div>\n",
       "<style scoped>\n",
       "    .dataframe tbody tr th:only-of-type {\n",
       "        vertical-align: middle;\n",
       "    }\n",
       "\n",
       "    .dataframe tbody tr th {\n",
       "        vertical-align: top;\n",
       "    }\n",
       "\n",
       "    .dataframe thead th {\n",
       "        text-align: right;\n",
       "    }\n",
       "</style>\n",
       "<table border=\"1\" class=\"dataframe\">\n",
       "  <thead>\n",
       "    <tr style=\"text-align: right;\">\n",
       "      <th></th>\n",
       "      <th>Index</th>\n",
       "      <th>Date</th>\n",
       "      <th>Open</th>\n",
       "      <th>High</th>\n",
       "      <th>Low</th>\n",
       "      <th>Close</th>\n",
       "      <th>Adj Close</th>\n",
       "      <th>Volume</th>\n",
       "    </tr>\n",
       "  </thead>\n",
       "  <tbody>\n",
       "    <tr>\n",
       "      <th>74997</th>\n",
       "      <td>KS11</td>\n",
       "      <td>2016-06-02</td>\n",
       "      <td>1983.859985</td>\n",
       "      <td>1988.000000</td>\n",
       "      <td>1978.819946</td>\n",
       "      <td>1985.109985</td>\n",
       "      <td>1985.109985</td>\n",
       "      <td>474200.0</td>\n",
       "    </tr>\n",
       "    <tr>\n",
       "      <th>74998</th>\n",
       "      <td>KS11</td>\n",
       "      <td>2016-06-03</td>\n",
       "      <td>1991.579956</td>\n",
       "      <td>1991.579956</td>\n",
       "      <td>1979.660034</td>\n",
       "      <td>1985.839966</td>\n",
       "      <td>1985.839966</td>\n",
       "      <td>540900.0</td>\n",
       "    </tr>\n",
       "    <tr>\n",
       "      <th>74999</th>\n",
       "      <td>KS11</td>\n",
       "      <td>2016-06-07</td>\n",
       "      <td>1993.079956</td>\n",
       "      <td>2011.670044</td>\n",
       "      <td>1992.770020</td>\n",
       "      <td>2011.630005</td>\n",
       "      <td>2011.630005</td>\n",
       "      <td>481300.0</td>\n",
       "    </tr>\n",
       "    <tr>\n",
       "      <th>75000</th>\n",
       "      <td>KS11</td>\n",
       "      <td>2016-06-08</td>\n",
       "      <td>2013.719971</td>\n",
       "      <td>2027.089966</td>\n",
       "      <td>2008.589966</td>\n",
       "      <td>2027.079956</td>\n",
       "      <td>2027.079956</td>\n",
       "      <td>497900.0</td>\n",
       "    </tr>\n",
       "    <tr>\n",
       "      <th>75001</th>\n",
       "      <td>KS11</td>\n",
       "      <td>2016-06-09</td>\n",
       "      <td>2028.020020</td>\n",
       "      <td>2035.270020</td>\n",
       "      <td>2012.140015</td>\n",
       "      <td>2024.170044</td>\n",
       "      <td>2024.170044</td>\n",
       "      <td>599700.0</td>\n",
       "    </tr>\n",
       "    <tr>\n",
       "      <th>...</th>\n",
       "      <td>...</td>\n",
       "      <td>...</td>\n",
       "      <td>...</td>\n",
       "      <td>...</td>\n",
       "      <td>...</td>\n",
       "      <td>...</td>\n",
       "      <td>...</td>\n",
       "      <td>...</td>\n",
       "    </tr>\n",
       "    <tr>\n",
       "      <th>76218</th>\n",
       "      <td>KS11</td>\n",
       "      <td>2021-05-26</td>\n",
       "      <td>3171.909912</td>\n",
       "      <td>3183.969971</td>\n",
       "      <td>3160.300049</td>\n",
       "      <td>3168.429932</td>\n",
       "      <td>3168.429932</td>\n",
       "      <td>1269000.0</td>\n",
       "    </tr>\n",
       "    <tr>\n",
       "      <th>76219</th>\n",
       "      <td>KS11</td>\n",
       "      <td>2021-05-27</td>\n",
       "      <td>3170.840088</td>\n",
       "      <td>3173.860107</td>\n",
       "      <td>3142.370117</td>\n",
       "      <td>3165.510010</td>\n",
       "      <td>3165.510010</td>\n",
       "      <td>1081100.0</td>\n",
       "    </tr>\n",
       "    <tr>\n",
       "      <th>76220</th>\n",
       "      <td>KS11</td>\n",
       "      <td>2021-05-28</td>\n",
       "      <td>3172.090088</td>\n",
       "      <td>3198.659912</td>\n",
       "      <td>3171.850098</td>\n",
       "      <td>3188.729980</td>\n",
       "      <td>3188.729980</td>\n",
       "      <td>966000.0</td>\n",
       "    </tr>\n",
       "    <tr>\n",
       "      <th>76221</th>\n",
       "      <td>KS11</td>\n",
       "      <td>2021-05-31</td>\n",
       "      <td>3192.060059</td>\n",
       "      <td>3204.290039</td>\n",
       "      <td>3179.870117</td>\n",
       "      <td>3203.919922</td>\n",
       "      <td>3203.919922</td>\n",
       "      <td>1123100.0</td>\n",
       "    </tr>\n",
       "    <tr>\n",
       "      <th>76222</th>\n",
       "      <td>KS11</td>\n",
       "      <td>2021-06-01</td>\n",
       "      <td>3207.120117</td>\n",
       "      <td>3233.169922</td>\n",
       "      <td>3199.179932</td>\n",
       "      <td>3221.870117</td>\n",
       "      <td>3221.870117</td>\n",
       "      <td>1472570.0</td>\n",
       "    </tr>\n",
       "  </tbody>\n",
       "</table>\n",
       "<p>1221 rows × 8 columns</p>\n",
       "</div>"
      ],
      "text/plain": [
       "      Index       Date         Open         High          Low        Close  \\\n",
       "74997  KS11 2016-06-02  1983.859985  1988.000000  1978.819946  1985.109985   \n",
       "74998  KS11 2016-06-03  1991.579956  1991.579956  1979.660034  1985.839966   \n",
       "74999  KS11 2016-06-07  1993.079956  2011.670044  1992.770020  2011.630005   \n",
       "75000  KS11 2016-06-08  2013.719971  2027.089966  2008.589966  2027.079956   \n",
       "75001  KS11 2016-06-09  2028.020020  2035.270020  2012.140015  2024.170044   \n",
       "...     ...        ...          ...          ...          ...          ...   \n",
       "76218  KS11 2021-05-26  3171.909912  3183.969971  3160.300049  3168.429932   \n",
       "76219  KS11 2021-05-27  3170.840088  3173.860107  3142.370117  3165.510010   \n",
       "76220  KS11 2021-05-28  3172.090088  3198.659912  3171.850098  3188.729980   \n",
       "76221  KS11 2021-05-31  3192.060059  3204.290039  3179.870117  3203.919922   \n",
       "76222  KS11 2021-06-01  3207.120117  3233.169922  3199.179932  3221.870117   \n",
       "\n",
       "         Adj Close     Volume  \n",
       "74997  1985.109985   474200.0  \n",
       "74998  1985.839966   540900.0  \n",
       "74999  2011.630005   481300.0  \n",
       "75000  2027.079956   497900.0  \n",
       "75001  2024.170044   599700.0  \n",
       "...            ...        ...  \n",
       "76218  3168.429932  1269000.0  \n",
       "76219  3165.510010  1081100.0  \n",
       "76220  3188.729980   966000.0  \n",
       "76221  3203.919922  1123100.0  \n",
       "76222  3221.870117  1472570.0  \n",
       "\n",
       "[1221 rows x 8 columns]"
      ]
     },
     "execution_count": 20,
     "metadata": {},
     "output_type": "execute_result"
    }
   ],
   "source": [
    "df_Korea= data_train[data_train[\"Index\"].isin(['KS11'])].sort_values('Date')\n",
    "df_Korea"
   ]
  },
  {
   "cell_type": "markdown",
   "id": "4b313883",
   "metadata": {},
   "source": [
    "#### showing on the graph"
   ]
  },
  {
   "cell_type": "code",
   "execution_count": 25,
   "id": "bfb2a9c7",
   "metadata": {},
   "outputs": [
    {
     "data": {
      "text/plain": [
       "<matplotlib.legend.Legend at 0x1a0f96c6fd0>"
      ]
     },
     "execution_count": 25,
     "metadata": {},
     "output_type": "execute_result"
    },
    {
     "data": {
      "image/png": "[encoded data removed]",
      "text/plain": [
       "<Figure size 1152x595.44 with 1 Axes>"
      ]
     },
     "metadata": {},
     "output_type": "display_data"
    }
   ],
   "source": [
    "import matplotlib.pylab as plt\n",
    "plt.plot(df_Korea[\"Date\"],df_Korea[\"Close\"],label='Korea',color=\"green\")\n",
    "plt.xlabel(\"Year\")\n",
    "plt.ylabel(\"Closing Price\")\n",
    "plt.rc('axes', labelsize=30) \n",
    "plt.legend()"
   ]
  },
  {
   "cell_type": "code",
   "execution_count": 26,
   "id": "422f75ab",
   "metadata": {},
   "outputs": [
    {
     "data": {
      "text/html": [
       "<div>\n",
       "<style scoped>\n",
       "    .dataframe tbody tr th:only-of-type {\n",
       "        vertical-align: middle;\n",
       "    }\n",
       "\n",
       "    .dataframe tbody tr th {\n",
       "        vertical-align: top;\n",
       "    }\n",
       "\n",
       "    .dataframe thead th {\n",
       "        text-align: right;\n",
       "    }\n",
       "</style>\n",
       "<table border=\"1\" class=\"dataframe\">\n",
       "  <thead>\n",
       "    <tr style=\"text-align: right;\">\n",
       "      <th></th>\n",
       "      <th>Date</th>\n",
       "      <th>Close</th>\n",
       "    </tr>\n",
       "  </thead>\n",
       "  <tbody>\n",
       "    <tr>\n",
       "      <th>74997</th>\n",
       "      <td>2016-06-02</td>\n",
       "      <td>1985.109985</td>\n",
       "    </tr>\n",
       "    <tr>\n",
       "      <th>74998</th>\n",
       "      <td>2016-06-03</td>\n",
       "      <td>1985.839966</td>\n",
       "    </tr>\n",
       "    <tr>\n",
       "      <th>74999</th>\n",
       "      <td>2016-06-07</td>\n",
       "      <td>2011.630005</td>\n",
       "    </tr>\n",
       "    <tr>\n",
       "      <th>75000</th>\n",
       "      <td>2016-06-08</td>\n",
       "      <td>2027.079956</td>\n",
       "    </tr>\n",
       "    <tr>\n",
       "      <th>75001</th>\n",
       "      <td>2016-06-09</td>\n",
       "      <td>2024.170044</td>\n",
       "    </tr>\n",
       "    <tr>\n",
       "      <th>...</th>\n",
       "      <td>...</td>\n",
       "      <td>...</td>\n",
       "    </tr>\n",
       "    <tr>\n",
       "      <th>76218</th>\n",
       "      <td>2021-05-26</td>\n",
       "      <td>3168.429932</td>\n",
       "    </tr>\n",
       "    <tr>\n",
       "      <th>76219</th>\n",
       "      <td>2021-05-27</td>\n",
       "      <td>3165.510010</td>\n",
       "    </tr>\n",
       "    <tr>\n",
       "      <th>76220</th>\n",
       "      <td>2021-05-28</td>\n",
       "      <td>3188.729980</td>\n",
       "    </tr>\n",
       "    <tr>\n",
       "      <th>76221</th>\n",
       "      <td>2021-05-31</td>\n",
       "      <td>3203.919922</td>\n",
       "    </tr>\n",
       "    <tr>\n",
       "      <th>76222</th>\n",
       "      <td>2021-06-01</td>\n",
       "      <td>3221.870117</td>\n",
       "    </tr>\n",
       "  </tbody>\n",
       "</table>\n",
       "<p>1221 rows × 2 columns</p>\n",
       "</div>"
      ],
      "text/plain": [
       "            Date        Close\n",
       "74997 2016-06-02  1985.109985\n",
       "74998 2016-06-03  1985.839966\n",
       "74999 2016-06-07  2011.630005\n",
       "75000 2016-06-08  2027.079956\n",
       "75001 2016-06-09  2024.170044\n",
       "...          ...          ...\n",
       "76218 2021-05-26  3168.429932\n",
       "76219 2021-05-27  3165.510010\n",
       "76220 2021-05-28  3188.729980\n",
       "76221 2021-05-31  3203.919922\n",
       "76222 2021-06-01  3221.870117\n",
       "\n",
       "[1221 rows x 2 columns]"
      ]
     },
     "execution_count": 26,
     "metadata": {},
     "output_type": "execute_result"
    }
   ],
   "source": [
    "df_Korea_data = df_Korea[[\"Date\",\"Close\"]]"
   ]
  },
  {
   "cell_type": "code",
   "execution_count": 27,
   "id": "ec6b1d6c",
   "metadata": {},
   "outputs": [],
   "source": [
    "Korea_data_train = df_Korea_data[df_Korea_data.Date < \"2021-04-30\"]\n",
    "Korea_data_test = df_Korea_data[df_Korea_data.Date >= \"2021-05-01\"]"
   ]
  },
  {
   "cell_type": "code",
   "execution_count": 28,
   "id": "f17fbb10",
   "metadata": {},
   "outputs": [
    {
     "data": {
      "text/html": [
       "<div>\n",
       "<style scoped>\n",
       "    .dataframe tbody tr th:only-of-type {\n",
       "        vertical-align: middle;\n",
       "    }\n",
       "\n",
       "    .dataframe tbody tr th {\n",
       "        vertical-align: top;\n",
       "    }\n",
       "\n",
       "    .dataframe thead th {\n",
       "        text-align: right;\n",
       "    }\n",
       "</style>\n",
       "<table border=\"1\" class=\"dataframe\">\n",
       "  <thead>\n",
       "    <tr style=\"text-align: right;\">\n",
       "      <th></th>\n",
       "      <th>Date</th>\n",
       "      <th>Close</th>\n",
       "    </tr>\n",
       "  </thead>\n",
       "  <tbody>\n",
       "    <tr>\n",
       "      <th>74997</th>\n",
       "      <td>2016-06-02</td>\n",
       "      <td>1985.109985</td>\n",
       "    </tr>\n",
       "    <tr>\n",
       "      <th>74998</th>\n",
       "      <td>2016-06-03</td>\n",
       "      <td>1985.839966</td>\n",
       "    </tr>\n",
       "    <tr>\n",
       "      <th>74999</th>\n",
       "      <td>2016-06-07</td>\n",
       "      <td>2011.630005</td>\n",
       "    </tr>\n",
       "    <tr>\n",
       "      <th>75000</th>\n",
       "      <td>2016-06-08</td>\n",
       "      <td>2027.079956</td>\n",
       "    </tr>\n",
       "    <tr>\n",
       "      <th>75001</th>\n",
       "      <td>2016-06-09</td>\n",
       "      <td>2024.170044</td>\n",
       "    </tr>\n",
       "    <tr>\n",
       "      <th>...</th>\n",
       "      <td>...</td>\n",
       "      <td>...</td>\n",
       "    </tr>\n",
       "    <tr>\n",
       "      <th>76197</th>\n",
       "      <td>2021-04-23</td>\n",
       "      <td>3181.080078</td>\n",
       "    </tr>\n",
       "    <tr>\n",
       "      <th>76198</th>\n",
       "      <td>2021-04-26</td>\n",
       "      <td>3217.530029</td>\n",
       "    </tr>\n",
       "    <tr>\n",
       "      <th>76199</th>\n",
       "      <td>2021-04-27</td>\n",
       "      <td>3215.419922</td>\n",
       "    </tr>\n",
       "    <tr>\n",
       "      <th>76200</th>\n",
       "      <td>2021-04-28</td>\n",
       "      <td>3181.469971</td>\n",
       "    </tr>\n",
       "    <tr>\n",
       "      <th>76201</th>\n",
       "      <td>2021-04-29</td>\n",
       "      <td>3174.070068</td>\n",
       "    </tr>\n",
       "  </tbody>\n",
       "</table>\n",
       "<p>1200 rows × 2 columns</p>\n",
       "</div>"
      ],
      "text/plain": [
       "            Date        Close\n",
       "74997 2016-06-02  1985.109985\n",
       "74998 2016-06-03  1985.839966\n",
       "74999 2016-06-07  2011.630005\n",
       "75000 2016-06-08  2027.079956\n",
       "75001 2016-06-09  2024.170044\n",
       "...          ...          ...\n",
       "76197 2021-04-23  3181.080078\n",
       "76198 2021-04-26  3217.530029\n",
       "76199 2021-04-27  3215.419922\n",
       "76200 2021-04-28  3181.469971\n",
       "76201 2021-04-29  3174.070068\n",
       "\n",
       "[1200 rows x 2 columns]"
      ]
     },
     "execution_count": 28,
     "metadata": {},
     "output_type": "execute_result"
    }
   ],
   "source": [
    "Korea_data_train"
   ]
  },
  {
   "cell_type": "code",
   "execution_count": 30,
   "id": "599520f5",
   "metadata": {},
   "outputs": [
    {
     "name": "stderr",
     "output_type": "stream",
     "text": [
      "C:\\Users\\Lakshmi Sirisha\\anaconda3\\lib\\site-packages\\pandas\\core\\generic.py:5494: SettingWithCopyWarning: \n",
      "A value is trying to be set on a copy of a slice from a DataFrame.\n",
      "Try using .loc[row_indexer,col_indexer] = value instead\n",
      "\n",
      "See the caveats in the documentation: https://pandas.pydata.org/pandas-docs/stable/user_guide/indexing.html#returning-a-view-versus-a-copy\n",
      "  self[name] = value\n"
     ]
    }
   ],
   "source": [
    "import datetime as dt\n",
    "Korea_data_train.Date = Korea_data_train.Date.map(dt.datetime.toordinal)"
   ]
  },
  {
   "cell_type": "code",
   "execution_count": 32,
   "id": "475f40ff",
   "metadata": {},
   "outputs": [
    {
     "name": "stderr",
     "output_type": "stream",
     "text": [
      "<ipython-input-32-66d7421e8884>:2: FutureWarning: Support for multi-dimensional indexing (e.g. `obj[:, None]`) is deprecated and will be removed in a future version.  Convert to a numpy array before indexing instead.\n",
      "  X_train = Korea_data_train.Date[:, np.newaxis]\n"
     ]
    }
   ],
   "source": [
    "import numpy as np\n",
    "X_train = Korea_data_train.Date[:, np.newaxis]"
   ]
  },
  {
   "cell_type": "code",
   "execution_count": 33,
   "id": "052b4449",
   "metadata": {},
   "outputs": [
    {
     "data": {
      "text/plain": [
       "array([[736117],\n",
       "       [736118],\n",
       "       [736122],\n",
       "       ...,\n",
       "       [737907],\n",
       "       [737908],\n",
       "       [737909]], dtype=int64)"
      ]
     },
     "execution_count": 33,
     "metadata": {},
     "output_type": "execute_result"
    }
   ],
   "source": [
    "X_train"
   ]
  },
  {
   "cell_type": "code",
   "execution_count": 37,
   "id": "916f1d0c",
   "metadata": {},
   "outputs": [],
   "source": [
    "y_train = Korea_data_train.Close"
   ]
  },
  {
   "cell_type": "code",
   "execution_count": 51,
   "id": "cf2c657f",
   "metadata": {},
   "outputs": [
    {
     "data": {
      "text/plain": [
       "74997    1985.109985\n",
       "74998    1985.839966\n",
       "74999    2011.630005\n",
       "75000    2027.079956\n",
       "75001    2024.170044\n",
       "            ...     \n",
       "76197    3181.080078\n",
       "76198    3217.530029\n",
       "76199    3215.419922\n",
       "76200    3181.469971\n",
       "76201    3174.070068\n",
       "Name: Close, Length: 1200, dtype: float64"
      ]
     },
     "execution_count": 51,
     "metadata": {},
     "output_type": "execute_result"
    }
   ],
   "source": [
    "y_train"
   ]
  },
  {
   "cell_type": "code",
   "execution_count": 35,
   "id": "2b71e263",
   "metadata": {},
   "outputs": [],
   "source": [
    "from sklearn.tree import DecisionTreeRegressor\n",
    "from sklearn.linear_model import LinearRegression\n",
    "from sklearn.ensemble import RandomForestRegressor\n",
    "from sklearn.model_selection import train_test_split\n",
    "from sklearn.metrics import mean_squared_error\n",
    "from sklearn.metrics import r2_score"
   ]
  },
  {
   "cell_type": "code",
   "execution_count": 38,
   "id": "c0f3005d",
   "metadata": {},
   "outputs": [],
   "source": [
    "tree = DecisionTreeRegressor(criterion='mse',max_depth=50).fit(X_train, y_train)"
   ]
  },
  {
   "cell_type": "code",
   "execution_count": 39,
   "id": "22bb06d1",
   "metadata": {},
   "outputs": [],
   "source": [
    "linear_reg = LinearRegression().fit(X_train, y_train)"
   ]
  },
  {
   "cell_type": "code",
   "execution_count": 40,
   "id": "4c2ec125",
   "metadata": {},
   "outputs": [],
   "source": [
    "model_rf = RandomForestRegressor(n_estimators=100).fit(X_train, y_train)"
   ]
  },
  {
   "cell_type": "code",
   "execution_count": 43,
   "id": "a6bf5168",
   "metadata": {},
   "outputs": [
    {
     "name": "stderr",
     "output_type": "stream",
     "text": [
      "<ipython-input-43-40dfc4998993>:1: FutureWarning: Support for multi-dimensional indexing (e.g. `obj[:, None]`) is deprecated and will be removed in a future version.  Convert to a numpy array before indexing instead.\n",
      "  X_all = df_Korea_data.Date.map(dt.datetime.toordinal)[:, np.newaxis]\n"
     ]
    }
   ],
   "source": [
    "X_all = df_Korea_data.Date.map(dt.datetime.toordinal)[:, np.newaxis]"
   ]
  },
  {
   "cell_type": "code",
   "execution_count": 52,
   "id": "044d735c",
   "metadata": {},
   "outputs": [],
   "source": [
    "import numpy.polynomial.polynomial as poly\n",
    "pred_tree = tree.predict(X_all)\n",
    "pred_model_rf = model_rf.predict(X_all)\n",
    "pred_lr = linear_reg.predict(X_all)\n",
    "X = np.array(Korea_data_train.Date)\n",
    "y = np.array(Korea_data_train.Close)\n"
   ]
  },
  {
   "cell_type": "code",
   "execution_count": 48,
   "id": "835f5c71",
   "metadata": {},
   "outputs": [],
   "source": [
    "df_data_close_withoutnan = df_Korea_data.dropna()"
   ]
  },
  {
   "cell_type": "code",
   "execution_count": 55,
   "id": "8104515d",
   "metadata": {},
   "outputs": [],
   "source": [
    "model_coef_polyfit = poly.polyfit(X, y, 3)\n"
   ]
  },
  {
   "cell_type": "code",
   "execution_count": 57,
   "id": "a9fd98d1",
   "metadata": {},
   "outputs": [],
   "source": [
    "X_new = np.array(df_Korea_data.Date.map(dt.datetime.toordinal))\n",
    "ffit = poly.polyval(X_new, model_coef_polyfit)\n",
    "X_new = pd.DataFrame(X_new,columns=['Date'])\n",
    "X_new = X_new.Date.map(dt.datetime.fromordinal)"
   ]
  },
  {
   "cell_type": "code",
   "execution_count": 80,
   "id": "9f8b00b9",
   "metadata": {},
   "outputs": [
    {
     "data": {
      "text/plain": [
       "<matplotlib.legend.Legend at 0x1a0fcc8bcd0>"
      ]
     },
     "execution_count": 80,
     "metadata": {},
     "output_type": "execute_result"
    },
    {
     "data": {
      "image/png": "[encoded data removed]",
      "text/plain": [
       "<Figure size 1152x595.44 with 1 Axes>"
      ]
     },
     "metadata": {},
     "output_type": "display_data"
    }
   ],
   "source": [
    "plt.plot(df_Korea_data.Date,df_Korea_data.Close,label='Korea')\n",
    "plt.xlabel(\"Year\")\n",
    "plt.ylabel(\"Closing Price\")\n",
    "plt.rc('axes', labelsize=30) \n",
    "plt.legend()"
   ]
  },
  {
   "cell_type": "code",
   "execution_count": 81,
   "id": "8cdf71c8",
   "metadata": {},
   "outputs": [
    {
     "data": {
      "text/plain": [
       "<matplotlib.legend.Legend at 0x1a0fcee1400>"
      ]
     },
     "execution_count": 81,
     "metadata": {},
     "output_type": "execute_result"
    },
    {
     "data": {
      "image/png": "[encoded data removed]",
      "text/plain": [
       "<Figure size 1152x595.44 with 1 Axes>"
      ]
     },
     "metadata": {},
     "output_type": "display_data"
    }
   ],
   "source": [
    "plt.plot(df_Korea_data.Date,pred_tree,label='Decision Tree',color=\"green\")\n",
    "plt.xlabel(\"Year\")\n",
    "plt.ylabel(\"Closing Price\")\n",
    "plt.rc('axes', labelsize=30) \n",
    "plt.legend()"
   ]
  },
  {
   "cell_type": "code",
   "execution_count": 82,
   "id": "e1d3a0c5",
   "metadata": {},
   "outputs": [
    {
     "data": {
      "text/plain": [
       "<matplotlib.legend.Legend at 0x1a0fd5aaac0>"
      ]
     },
     "execution_count": 82,
     "metadata": {},
     "output_type": "execute_result"
    },
    {
     "data": {
      "image/png": "[encoded data removed]",
      "text/plain": [
       "<Figure size 1152x595.44 with 1 Axes>"
      ]
     },
     "metadata": {},
     "output_type": "display_data"
    }
   ],
   "source": [
    "plt.plot(df_Korea_data.Date,pred_lr,label='Linear Regression',color='red')\n",
    "plt.xlabel(\"Year\")\n",
    "plt.ylabel(\"Closing Price\")\n",
    "plt.rc('axes', labelsize=30) \n",
    "plt.legend()"
   ]
  },
  {
   "cell_type": "code",
   "execution_count": 83,
   "id": "2d60ed89",
   "metadata": {},
   "outputs": [
    {
     "data": {
      "text/plain": [
       "<matplotlib.legend.Legend at 0x1a0fbf21970>"
      ]
     },
     "execution_count": 83,
     "metadata": {},
     "output_type": "execute_result"
    },
    {
     "data": {
      "image/png": "[encoded data removed]",
      "text/plain": [
       "<Figure size 1152x595.44 with 1 Axes>"
      ]
     },
     "metadata": {},
     "output_type": "display_data"
    }
   ],
   "source": [
    "plt.plot(df_Korea_data.Date,pred_model_rf,label='Random Forest',color='orange')\n",
    "plt.xlabel(\"Year\")\n",
    "plt.ylabel(\"Closing Price\")\n",
    "plt.rc('axes', labelsize=30) \n",
    "plt.legend()"
   ]
  },
  {
   "cell_type": "markdown",
   "id": "6c411261",
   "metadata": {},
   "source": [
    "#### Check the scores for each  model"
   ]
  },
  {
   "cell_type": "code",
   "execution_count": 84,
   "id": "48adf389",
   "metadata": {},
   "outputs": [
    {
     "data": {
      "text/plain": [
       "0.9998287040964758"
      ]
     },
     "execution_count": 84,
     "metadata": {},
     "output_type": "execute_result"
    }
   ],
   "source": [
    "tree.score(X_all,df_Korea_data.Close)"
   ]
  },
  {
   "cell_type": "code",
   "execution_count": 87,
   "id": "bac5cd3d",
   "metadata": {},
   "outputs": [
    {
     "data": {
      "text/plain": [
       "0.16406544278071178"
      ]
     },
     "execution_count": 87,
     "metadata": {},
     "output_type": "execute_result"
    }
   ],
   "source": [
    "linear_reg.score(X_all,df_Korea_data.Close)"
   ]
  },
  {
   "cell_type": "code",
   "execution_count": 89,
   "id": "7aeff401",
   "metadata": {},
   "outputs": [
    {
     "data": {
      "text/plain": [
       "0.9992349008079804"
      ]
     },
     "execution_count": 89,
     "metadata": {},
     "output_type": "execute_result"
    }
   ],
   "source": [
    "model_rf.score(X_all,df_Korea_data.Close)"
   ]
  }
 ],
 "metadata": {
  "kernelspec": {
   "display_name": "Python 3",
   "language": "python",
   "name": "python3"
  },
  "language_info": {
   "codemirror_mode": {
    "name": "ipython",
    "version": 3
   },
   "file_extension": ".py",
   "mimetype": "text/x-python",
   "name": "python",
   "nbconvert_exporter": "python",
   "pygments_lexer": "ipython3",
   "version": "3.8.8"
  }
 },
 "nbformat": 4,
 "nbformat_minor": 5
}
